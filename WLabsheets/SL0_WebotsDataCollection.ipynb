{
  "nbformat": 4,
  "nbformat_minor": 0,
  "metadata": {
    "colab": {
      "name": "SL0_WebotsDataCollection",
      "provenance": [],
      "collapsed_sections": [],
      "toc_visible": true,
      "authorship_tag": "ABX9TyML9HICYp9b4LET2tYNc7CP",
      "include_colab_link": true
    },
    "kernelspec": {
      "name": "python3",
      "display_name": "Python 3"
    },
    "language_info": {
      "name": "python"
    }
  },
  "cells": [
    {
      "cell_type": "markdown",
      "metadata": {
        "id": "view-in-github",
        "colab_type": "text"
      },
      "source": [
        "<a href=\"https://colab.research.google.com/github/paulodowd/EMATM0053_21_22/blob/main/WLabsheets/SL0_WebotsDataCollection.ipynb\" target=\"_parent\"><img src=\"https://colab.research.google.com/assets/colab-badge.svg\" alt=\"Open In Colab\"/></a>"
      ]
    },
    {
      "cell_type": "markdown",
      "metadata": {
        "id": "FGT_C4iS6zB2"
      },
      "source": [
        "# Supplementary Labsheet 0: Data Collection in Webots\n",
        "\n",
        "This labsheet offers some advice to help with data collection during experiments conducted in Webots.\n",
        "\n"
      ]
    },
    {
      "cell_type": "markdown",
      "metadata": {
        "id": "nykxtan-_S4h"
      },
      "source": [
        "<hr><br><br><br><br>"
      ]
    },
    {
      "cell_type": "markdown",
      "metadata": {
        "id": "_IypjDJH7ACw"
      },
      "source": [
        "## Webots Supervisor\n",
        "\n",
        "It is possible to enable a `supervisor` mode in Webots that will allow you to collect the absoluate global coordinates and rotation of your robot over time.  This would be useful to save into a results file alongside any information your robot calculates for itself, such as odometry.\n",
        "\n",
        "**Note:** whilst it is possible to use the supervisor information to control your robot, this is very unrealistic.  In reality, a mobile robot does not have access to such accurate and precise information.  When the supervisor mode has been used in your assessment, it is necessary to provide careful justification and rationale for it's use.  If it is unlikely that your implementation could work on a real robot, then the credibility and significance of your work will be reduced.\n",
        "\n",
        "Steps to access the `supervisor mode`:\n",
        "\n",
        "<p align=\"center\">\n",
        "<img src=\"https://github.com/paulodowd/EMATM0053_21_22/blob/main/images/Webots_SupervisorNode.png?raw=true\">\n",
        "</p>\n",
        "\n",
        "1. Navigate the left-hand pane in Webots.  \n",
        "- locate the node for the robot, labelled `DEF EPUCK E-puck`.\n",
        "- find the field labelled `supevisor`, click this to access options.\n",
        "- set the single field from `FALSE` to `TRUE`.\n",
        "\n",
        "2. Save your Webots World file with this change made to your robot.\n",
        "\n",
        "3. Add the following lines of code into the appropriate locations of your controller source file, as indicated in the comments:\n",
        "\n",
        "\n",
        "```c\n",
        "\n",
        "// Top level, under the file includes.\n",
        "#include <webots/supervisor.h>  // access to supervisor functions.\n",
        "\n",
        "\n",
        "// Top level, with global variables.\n",
        "WbNodeRef supervisor;           // Reference to access supervisor.\n",
        "\n",
        "\n",
        "// Within void main( void ) \n",
        "void main(void) {\n",
        "\n",
        "  // Register superivsor, check for errors.\n",
        "  // If you get an error, you may have not set the \n",
        "  // field supervisor to true in the left hand panel\n",
        "  // or saved your world file.\n",
        "  supervisor = wb_supervisor_node_get_self();\n",
        "  if( supervisor == NULL ) {\n",
        "    printf(\"Error: supervisor node not set\\n\");\n",
        "    return 0;\n",
        "  } else {\n",
        "    printf(\"Registered supervisor\\n\");\n",
        "  }\n",
        "\n",
        "\n",
        "  // ... etc\n",
        "\n",
        "}\n",
        "\n",
        "\n",
        "// Within loop()\n",
        "void loop() {\n",
        "\n",
        "\n",
        "  // Get latest global information about robot\n",
        "  const double * pos = wb_supervisor_node_get_position(supervisor);\n",
        "  WbFieldRef rotation = wb_supervisor_node_get_field( supervisor, \"rotation\");\n",
        "  const double * rot = wb_supervisor_field_get_sf_rotation(rotation);\n",
        "  \n",
        "  // Report values to console.\n",
        "  // You could also save these to a text file for later\n",
        "  // processing.\n",
        "  //                x,  y,  z\n",
        "  printf(\"Position: %f, %f, %f\\n\", pos[0], pos[1], pos[2] );\n",
        "\n",
        "  //                          axis-angle\n",
        "  printf(\"Rotation: %f, %f, %f, %f\\n\", rot[0], rot[1], rot[2], rot[3] );\n",
        "\n",
        "\n",
        "  // ... etc\n",
        "\n",
        "}\n",
        "\n",
        "\n",
        "```\n",
        "\n",
        "More information on the supervisor functions can be found <a href=\"https://cyberbotics.com/doc/reference/supervisor\">in the Webots documentation</a>.\n"
      ]
    },
    {
      "cell_type": "markdown",
      "metadata": {
        "id": "kD80F84G_Vko"
      },
      "source": [
        "<hr><br><br><br><br>"
      ]
    },
    {
      "cell_type": "markdown",
      "metadata": {
        "id": "sj-duU1u8SvL"
      },
      "source": [
        "## Webots E-Puck Proximity Sensor Configuration\n",
        "\n",
        "It is possible to alter the `field of view` of the proximity sensors and their range.  Similar to using the `supervisor mode`, you should think carefully about how adjusting the operation of the proximity sensors may negatively effect the credibility of your work.  Where adjustments are made, you should look to clearly justify the decision and the impact on the study.  The existing simulation of e-puck is a close approximation of the real-world robot.  Therefore, increasing the performance of the sensors moves the simulation away from reality.  However, when working with real robots, we do also have opportunities to alter their configuration.\n"
      ]
    },
    {
      "cell_type": "markdown",
      "metadata": {
        "id": "BBeUbagLJLVi"
      },
      "source": [
        "\n",
        "### Number of Rays\n",
        "\n",
        "It is useful to first of all set Webots to display the number of rays that are being used to provide distance sensor measurements.  We can then view the effect of increasing the number of rays.  Increasing the number of rays may slow down the performance of the simulator.\n",
        "\n",
        "<p align=\"center\">\n",
        "<img src=\"https://github.com/paulodowd/EMATM0053_21_22/blob/main/images/Webots_ShowRays.png?raw=true\">\n",
        "</p>\n",
        "\n",
        "1. Click `View -> Optional Rendering -> Show DistanceSensor Rays`\n",
        "\n",
        "\n",
        "2. Navigate the left-hand pane in Webots.  \n",
        "- locate the node for the robot, labelled `DEF EPUCK E-puck`.\n",
        "- find the field labelled `distance_sensor_numberOfRays 1`, click this to access options.\n",
        "- Set the value to something higher, such as 10.  You should see more rays displayed from each sensor.\n",
        "\n",
        "<p align=\"center\">\n",
        "<img src=\"https://github.com/paulodowd/EMATM0053_21_22/blob/main/images/Webots_NumRaysExample.png?raw=true\">\n",
        "</p>\n",
        "\n",
        "3. Save your World file to keep the changes.\n",
        "\n"
      ]
    },
    {
      "cell_type": "markdown",
      "metadata": {
        "id": "qNe9sEz5JIZi"
      },
      "source": [
        "\n",
        "\n",
        "### Proximity Sensor Field of View\n",
        "\n",
        "It is possible to make the field of view of the sensors wider or narrower.  To do this, we will need to edit the configuration file.  There may be multiple locations or versions of this file.  On this computer, it was necessary to navigate to the settings stored in the Windows user profile, at the following directory location (you will need to check with your operating system or adjust your user name): \n",
        "\n",
        "`C:\\Users\\ke18164\\AppData\\Local\\Programs\\Webots\\projects\\robots\\gctronic\\e-puck\\protos`\n",
        "\n",
        "1. Open the file named `E-puckDistanceSensor.proto`.  A text editing program should be used.\n",
        "\n",
        "\n",
        "2. Find the section of the file which appears like:\n",
        "\n",
        "```\n",
        "lookupTable [\n",
        "          0 4095 0.002\n",
        "          0.05 2133.33 0.003\n",
        "          0.01 1465.73 0.007\n",
        "          0.015 601.46 0.0406\n",
        "          0.02 383.84 0.01472\n",
        "          0.03 234.93 0.0241\n",
        "          0.04 158.03 0.0287\n",
        "          0.05 120 0.04225\n",
        "          0.06 104.09 0.03065\n",
        "          0.07 67.19 0.04897\n",
        "        ]\n",
        "        type \"infra-red\"\n",
        "        numberOfRays IS numberOfRays\n",
        "        aperture 0.1\n",
        "```\n",
        "\n",
        "3. Where `aperture 0.1` appears, change the value to something like 0.8 as a test.\n",
        "\n",
        "4. Load up Webots, or reload your world file.  Check that the sensors have a broader range.  Note, you will need to visualise the number of rays:\n",
        "\n",
        "<p align=\"center\">\n",
        "<img src=\"https://github.com/paulodowd/EMATM0053_21_22/blob/main/images/Webots_ProxAperture.png?raw=true\">\n",
        "</p>\n",
        "\n"
      ]
    },
    {
      "cell_type": "markdown",
      "metadata": {
        "id": "TQKABtVPJFmr"
      },
      "source": [
        "\n",
        "\n",
        "### Proximity Sensor Range\n",
        "\n",
        "Following simliar steps above for the field of view:\n",
        "\n",
        "1. Open the file named `E-puckDistanceSensor.proto`.  A text editing program should be used.\n",
        "\n",
        "\n",
        "2. Find the section of the file which appears like:\n",
        "\n",
        "```\n",
        "lookupTable [\n",
        "          0    4095 0.002\n",
        "          0.05 2133.33 0.003\n",
        "          0.01 1465.73 0.007\n",
        "          0.015 601.46 0.0406\n",
        "          0.02 383.84 0.01472\n",
        "          0.03 234.93 0.0241\n",
        "          0.04 158.03 0.0287\n",
        "          0.05 120 0.04225\n",
        "          0.06 104.09 0.03065\n",
        "          0.07 67.19 0.04897\n",
        "        ]\n",
        "        type \"infra-red\"\n",
        "        numberOfRays IS numberOfRays\n",
        "```\n",
        "\n",
        "3. In the above, the first column of numbers maps a distance to the sensor response.  Here, we could alter this column to instead read as below to significantly extend the range of the sensors:\n",
        "\n",
        "```\n",
        "lookupTable [\n",
        "          0    4095 0.002\n",
        "          0.02 2133.33 0.003\n",
        "          0.04 1465.73 0.007\n",
        "          0.06 601.46 0.0406\n",
        "          0.08 383.84 0.01472\n",
        "          0.1 234.93 0.0241\n",
        "          0.12 158.03 0.0287\n",
        "          0.14 120 0.04225\n",
        "          0.16 104.09 0.03065\n",
        "          0.18 67.19 0.04897\n",
        "        ]\n",
        "```\n",
        "\n",
        "<p align=\"center\">\n",
        "<img src=\"https://github.com/paulodowd/EMATM0053_21_22/blob/main/images/Webots_ProxDist.png?raw=true\">\n",
        "</p>\n"
      ]
    }
  ]
}