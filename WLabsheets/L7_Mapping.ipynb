{
  "nbformat": 4,
  "nbformat_minor": 0,
  "metadata": {
    "colab": {
      "name": "L7_Mapping",
      "provenance": [],
      "collapsed_sections": [],
      "toc_visible": true,
      "authorship_tag": "ABX9TyNbqFfZIPnN/GfzYejhFI7u",
      "include_colab_link": true
    },
    "kernelspec": {
      "name": "python3",
      "display_name": "Python 3"
    },
    "language_info": {
      "name": "python"
    }
  },
  "cells": [
    {
      "cell_type": "markdown",
      "metadata": {
        "id": "view-in-github",
        "colab_type": "text"
      },
      "source": [
        "<a href=\"https://colab.research.google.com/github/paulodowd/EMATM0053_21_22/blob/main/L7_Mapping.ipynb\" target=\"_parent\"><img src=\"https://colab.research.google.com/assets/colab-badge.svg\" alt=\"Open In Colab\"/></a>"
      ]
    },
    {
      "cell_type": "markdown",
      "metadata": {
        "id": "zJm8O6CeUYkd"
      },
      "source": [
        "# Labsheet 7: Mapping\n",
        "\n",
        "The e-puck robot has 8 IR proximity sensors around the robot body.  In Labsheet 4 you will have collected sample data from your proximity sensors, and then linearised the response.  This means that, instead of receiving a raw sensor value (the simulated analog to digital conversion), you can approximate a distance reading (e.g., in mm).  \n",
        "\n",
        "In this labsheet, we will work through a suggestion on how to utilise this distance reading to add detected obstructions into a map.  We will utilise some advantages of the simulator, such as a large amount of working memory that we would not otherwise expect to see on a robot operated by a microcontroller.  It should be noted however, that large memory operations are likely to slow down the run-time of your simulator. \n",
        "\n",
        "\n",
        "\n"
      ]
    },
    {
      "cell_type": "markdown",
      "metadata": {
        "id": "-dgWk9-PVI54"
      },
      "source": [
        "<hr><br><br><br><br>"
      ]
    },
    {
      "cell_type": "markdown",
      "metadata": {
        "id": "VFuROq70VLVo"
      },
      "source": [
        "# Considerations for a Metric Map\n",
        "\n",
        "The most straight-forward map we can produce is a `metric map`, a grip of some fixed resolution sufficient to represent the space of the task environment.  In the Webots world provided, we can inspect in the left hand pane the field `RectangleArean \"rectangle arena\"` and see that it has a size `floorSize 0.9 0.9`, which is 900mm by 900mm.  In this labsheet, we'll work with the idea of using a grid of 90x90 cells, providing a representation of 10x10mm per map grid cell.  \n",
        "\n",
        "<p align=\"center\">\n",
        "<img src=\"https://github.com/paulodowd/EMATM0053_21_22/blob/main/images/Webots_9090Map.png?raw=true\">\n",
        "</p>\n",
        "\n",
        "In the above illustration, we suppose that the 90x90 grid has a direct (but scaled) mapping to the arena environment.  For example, the corners of the grid match the corners of the arena.  Similarly, we might assume that cell `0,0` is the bottom left of the grid, whilst cell `89,89` is the top right.\n",
        "\n",
        "If we consider the above illustration, we can consider some initial problems our robot may face:\n",
        "- If the robot was to start in an unknown location, it cannot know where to place detected obstacles of features into a direct mapping of the metric map to the arena world. \n",
        "  - For example, if the robot starts in the position in the graphic on the left, we would assume odometry (x,y) is initialised to `0,0` at this position.\n",
        "- If the robot utilises the map with an unknown starting position, the robot may navigate out of the area represented by the metric map.\n",
        "\n",
        "We can consider several solutions for this metric map problem:\n",
        "- The robot could begin using the map, and then when the limits of the arena are detected, the entire map representation is updated with the correct coordinate offset to all mapped features.  \n",
        "- The robot could utilise a map representation that covers an area large than the task environment, although this is inefficient.\n",
        "- Different methods of mapping can be considered, such a topological or graph-based map.\n",
        "\n",
        "Even with the above considerations, we have an issue about whether the robot can autonmously detect the arena boundaries, and issues of localisation such as it's rotation with respect to a given global coordinate system.  \n",
        "\n",
        "To investigate in this area, it is sufficient to make some assumptions to gain an operational implementation, and then to challenge yourself to investigate the more challenging underlying problems within the assumptions. "
      ]
    },
    {
      "cell_type": "markdown",
      "metadata": {
        "id": "n7wyrpNPaMIT"
      },
      "source": [
        "<hr><br><br><br><br>"
      ]
    },
    {
      "cell_type": "markdown",
      "metadata": {
        "id": "AA6OrYQxYVed"
      },
      "source": [
        "# Projecting a Point\n",
        "\n",
        "From the point of view of the robot, when an obstruction is detected the robot can know:\n",
        "- which sensor has detected the obstruction (sensor $s$).\n",
        "- where this sensor is positioned on it's body (sensor angle, $\\theta_{s}$, and distance $d_{s}$ from centre of robot point $P_{R}$).\n",
        "- what the distance reading was (distance measurement, $M_{s}$).\n",
        "- an estimate of the robot's current position, via odometry ($X_{I}$, $Y_{I}$ and $\\theta_{I}$).\n",
        "\n",
        "These four elements can be combined to allow the robot to add information into a map.  To add information into the map, relative to the robot's current position.  This can be clearly broken down into the following steps using simple trigonometry:\n",
        "\n",
        "<p align=\"center\">\n",
        "<img width=\"50%\" src=\"https://github.com/paulodowd/EMATM0053_21_22/blob/main/images/Webots_SensorProjection1.png?raw=true\">\n",
        "</p>\n",
        "\n",
        "1. Get a distance reading from the sensor, $M_{s}$ (measurement for sensor $s$).  We know that the sensor is located around the robot body by angle $\\theta_{s}$, and offset from point $P_{R}$ by distance $d_{s}$.\n",
        "\n",
        "\n",
        "<p align=\"center\">\n",
        "<br><br><br><br>\n",
        "<img width=\"50%\" src=\"https://github.com/paulodowd/EMATM0053_21_22/blob/main/images/Webots_SensorProjection_Assumption.png?raw=true\">\n",
        "</p>\n",
        "\n",
        "2. With an assumption that the robot centre point $P_{R}$ is located at $X_{I} = 0$, $Y_{I} = 0$, and including the rotational offset $\\theta_{I}$, we can work out where point $P_{B}$ (here, B for block-obstruction) is located:\n",
        "\n",
        "$$x = ( d_s + M_s ) * cos( \\theta_{I} + \\theta_{s} )$$\n",
        "$$y = ( d_s + M_s ) * sin( \\theta_{I} + \\theta_{s} )$$\n",
        "\n",
        " \n",
        "\n",
        "<p align=\"center\">\n",
        "<br><br><br><br>\n",
        "<img width=\"50%\" src=\"https://github.com/paulodowd/EMATM0053_21_22/blob/main/images/Webots_SensorProjection2.png?raw=true\">\n",
        "</p>\n",
        "\n",
        "3. Because of our initial assumption that $P_{R}$ is at $X_{I} = 0$, $Y_{I} = 0$, we must include the translation of $X_{I}$ and $Y_{I}$, to produce the final form of our equations:\n",
        "\n",
        "\n",
        "$$ P_{B}(x) = X_I + (( d_s + M_s) * cos( \\theta_{I} + \\theta_{s}) )$$\n",
        "$$ P_{B}(y) = Y_I + (( d_s + M_s) * sin( \\theta_{I} + \\theta_{s}) )$$\n",
        "\n"
      ]
    },
    {
      "cell_type": "markdown",
      "metadata": {
        "id": "XHuYkd1t6xNh"
      },
      "source": [
        "## Exercise 1: Testing a transformation into X,Y coordinates.\n",
        "\n",
        "1. Building on your previous work, write the above equations into your Webots code to transform a sensor reading into a set of co-ordinates for the obstruction detected.  To being, just use `printf()` to validate the co-ordinates being output.\n",
        "  - **Help:** it is necessary that you have previously linearised your proximity sensor readings into an estimate of distance.\n",
        "  - **Help:** To start with, implement code to just transform 1 sensor reading and report the results.\n",
        "  - **Validate:** Working with just 1 sensor, validate the transformation of sensor reading into `(x,y)` coordinates appears to be functioning properly. \n",
        "  - **Help:** Remember that you can organise the environment so that you can evaluate your code against a known truth (e.g., place an obstacle a known distance away from your robot, set at 0,0).\n",
        "  - **Help:** Use the documentation to find the distance of the IR Proximity sensors from the centre of the e-puck robot.\n",
        "  - **Help:** The e-puck has the following sensor orientation in radians, although you should validate if these are in the correct order around the robot body:\n",
        "\n",
        "```c   \n",
        "float ps_dirs[8] = { 5.986479, 5.410521, 4.712389, 3.665191, 2.617994, 1.570796, 0.8726646, 0.296706};\n",
        "```\n",
        "\n",
        "<br><br>\n",
        "2.  Once you have evaluated that you are able to transform 1 sensor reading into a set of `(x,y)` write two functions: \n",
        "\n",
        "```c\n",
        "\n",
        "// Returns X coordinate for a given sensor angle and measurment.\n",
        "// Note, accessing the global odometry struct for global coordinates\n",
        "float sensorReadingToX( float sensor_angle, float measurement ) {\n",
        "\n",
        "  return x;\n",
        "}\n",
        "\n",
        "// Returns Y coordinate for a given sensor angle and measurment.\n",
        "// Note, accessing the global odometry struct for global coordinates\n",
        "float sensorReadingToY( float sensor_angle, float measurement ) {\n",
        "\n",
        "  return y;\n",
        "}\n",
        "```\n",
        "\n",
        "\n",
        "<br><br>\n",
        "3. Test your two functions above by reading all 8 sensors within a `for loop`, and print the co-ordinates of obstructions using `printf()`:\n",
        "\n",
        "```c\n",
        "int sensor;\n",
        "float x;\n",
        "float y;\n",
        "\n",
        "// For each sensor\n",
        "for( sensor = 0; sensor < NB_PS; sensor++ ) {\n",
        "\n",
        "    // Get x and y based on reading and sensor \n",
        "    // angle.\n",
        "    x = sensorReadingToX( ... );\n",
        "    y = sensorReadingToY( ... );\n",
        "\n",
        "    // print result.\n",
        "    printf(\"Sensor %d = (%.2f, %.2f)\\n\", sensor, x, y );\n",
        "\n",
        "}\n",
        "```"
      ]
    },
    {
      "cell_type": "markdown",
      "metadata": {
        "id": "f_IQI6FF6m1g"
      },
      "source": [
        "<hr><br><br><br><br>"
      ]
    },
    {
      "cell_type": "markdown",
      "metadata": {
        "id": "nYL5H8Ai6o4A"
      },
      "source": [
        "# Logging into a (map) Array in C\n",
        "\n"
      ]
    },
    {
      "cell_type": "markdown",
      "metadata": {
        "id": "ei-A7vUA8VZH"
      },
      "source": [
        "Within the scope of these labsheets, it will be sufficient for you to create a 2D array in `global scope` to store your map data.  We will then write some functions to encapsulate the operations we wish to perform on the map data.  \n",
        "\n",
        "As previously stated, we will create a map of 90x90 cells.  We can achieve this with a the following line of code in the global scope of your Webots controller:\n",
        "\n",
        "```c\n",
        "// Define a 2D array to store our map data\n",
        "#define MAP_XLIM 90\n",
        "#define MAP_YLIM 90\n",
        "float map[ MAP_XLIM ][ MAP_YLIM ];\n",
        "```\n",
        "\n",
        "In the above, we use `#define MAP_XLIM 90` and `#define MAP_YLIM 90` to set the limits of our array.  This will be useful later if we need to iterate over the array.  For example, we will be able to use code such as:\n",
        "\n",
        "```c\n",
        "int x;\n",
        "int y;\n",
        "\n",
        "for( y = 0; y < MAP_YLIM; y++ ) {    // start at row 0\n",
        "  for( x = 0; x < MAP_XLIM; x++ ) {  // for all columns\n",
        "\n",
        "      // Sets location x,y in array to 0.0\n",
        "      map[x][y] = 0.0;\n",
        "\n",
        "      // Reads and prints value at location x,y\n",
        "      // to 2 decimal places.\n",
        "      printf(\"%.2f, \", map[x][y] );\n",
        "\n",
        "  }\n",
        "  \n",
        "  // line return here, to print out the 2d array\n",
        "  // row by row\n",
        "  printf(\"\\n\");\n",
        "\n",
        "}\n",
        "```\n",
        "\n",
        "In the above code extract, we can be assured that the `for loop` will iterate from 0 to the limit of our map size, based on the value of `MAP_XLIM` and `MAP_YLIM` set at the top of our program.  This will reduce the likelihood of bugs or errors if these values were defined variously throughout your source code.  We can then also easily alter the size of our map by adjusting just `MAP_XLIM` and `MAP_YLIM`.\n",
        "\n",
        "Once we have taken a sensor reading and converted it to `(x,y)` coordinates, we will want to add this to our map.  From the above code suggestion, your co-ordiantes will be floating point numbers, and these are not appropriate for indexing an array. Therefore, we will use `typecasting` to change the floating point value into an integer representation. If we want to be safe about the behaviour, we can first of all use the function `floor()` to round-down the floating point number:\n",
        "\n",
        "```c\n",
        "// To temporarily store x,y of obstruction.\n",
        "float obs_x;\n",
        "float obs_y;\n",
        "\n",
        "// To temporarily store x,y index of map\n",
        "int map_x;\n",
        "int map_y;\n",
        "\n",
        "// Use current sensor reading to get x,y\n",
        "obs_x = sensorReadingToX( ... );\n",
        "obs_y = sensorReadingToY( ... );\n",
        "\n",
        "// We know that we are using a map 90x90\n",
        "// to represent arena of 900x900.  Therefore,\n",
        "// here we scale down, divide 10\n",
        "// In your code, find a way to do this relating\n",
        "// the global parameters MAP_XLIM MAP_YLIM\n",
        "obs_x = obs_x / 10.0;\n",
        "obs_y = obs_y / 10.0;\n",
        "\n",
        "// Round down result\n",
        "obs_x = floor( obs_x );\n",
        "obs_y = floor( obs_y );\n",
        "\n",
        "// Convert to int\n",
        "map_x = (int)obs_x;\n",
        "map_y = (int)obs_y;\n",
        "\n",
        "// Check that map_x and map_y are within the\n",
        "// limits of the map size. Decide what to do \n",
        "// if not:\n",
        "//\n",
        "// if( ... ) {\n",
        "//    ...\n",
        "// }\n",
        "\n",
        "// Increment this map location by 1.\n",
        "map[map_x][map_y] = map[map_x][map_y] + 1;\n",
        "\n",
        "\n",
        "```\n",
        "\n",
        "In the above example code, we simply increment the value of the cell at location `map_x` and `map_y`.  This is called an `occupancy histogram`.  This type of map will record the sum total that a cell was registered as having an obstruction.  Cells with a zero value will be considered as unoccupied space.  \n",
        "\n",
        "\n",
        "\n",
        "\n"
      ]
    },
    {
      "cell_type": "markdown",
      "metadata": {
        "id": "qG4UilixCat9"
      },
      "source": [
        "## Exercise 2: Mapping Functions\n",
        "\n",
        "1. Write a function to initialise your map to a known value, such as all cells equal `0.0`.  Call this map initialising function from within your `setup()` function.\n",
        "\n",
        "2. Write a useful function to call that will print all of the map to the console in a 2D format.  \n",
        "  - Decide whether it prints from row 0 to MAP_YLIM, or from MAP_YLIM to 0.  Make a similar decision about the x or column formating.\n",
        "\n",
        "3. **Validate**: validate that your map initialising function works as you expect.\n",
        "\n",
        "4. Write a function to take an `x` and `y` value and record a new data entry into your map.  \n",
        "  - It is suggested that you start by incrementing an existing value in the map array.  \n",
        "\n",
        "5. **Validate:** check that your mapping system is working correctly so far.  \n",
        "  - **Help:** You can use Webots to locate your e-puck robot at coordinates `0,0` in the arena, but set your odometry to start at `450, 450`.  This will centre your 2D map array over the arena.\n",
        "\n",
        "6. **Validate:** check what happens to your program and your map when your robot reaches the limits of the arena, or exceeds the map array.  \n",
        "  - **Help:** Try to write your code to catch these error exception by printing an error message, rather than allowing your program to crash.\n",
        "\n",
        "\n",
        "\n"
      ]
    },
    {
      "cell_type": "markdown",
      "metadata": {
        "id": "RrwagEWdD3qZ"
      },
      "source": [
        "<hr><br><br><br><br>"
      ]
    },
    {
      "cell_type": "markdown",
      "metadata": {
        "id": "n3eBONp6D5nn"
      },
      "source": [
        "# Writing a Map out to a text file (.csv)\n",
        "\n",
        "In this section, we will quickly review how to write the contents of your map array out to a text file stored on your computer disk.  We will actually use a text file with a `.csv` extension, which stands for `comma separated values`.  A `.csv` file is useful because it can be read into a table automatically by Microsoft Excel, R, Matlab, or other data processing software.\n",
        "\n",
        "In the approach provided here, your file `my_map.csv` will keep a record of the map each time `writeMap()` is called.  For example, you will be able to review how the map changed after every time `writeMap()` is called.  For this reason, it is important that you do not call `writeMap()` on every update of the simulator, because this will quickly create a very large file on your computer.  It is therefore recommended to call `writeMap()` after some time interval, such as every second.\n",
        "\n",
        "```c\n",
        "// We should include stdlib.h\n",
        "#include <stdlib.h>\n",
        "\n",
        "\n",
        "// A file pointer, this will point to the location\n",
        "// on your computer disk, where to write the data to.\n",
        "FILE * fp;\n",
        "char filename = \"my_map.csv\";\n",
        "\n",
        "\n",
        "// We will open the text file in setup() with a special\n",
        "// flag to delete any previous content.\n",
        "// Setup will only run once, so we use this to renew \n",
        "// our recorded map data.\n",
        "void setup() {\n",
        "  \n",
        "  // Using \"w\" as an argument will overwrite an old\n",
        "  // file with new content.\n",
        "  fp = fopen( filename, \"w\" );\n",
        "\n",
        "  // If we couldn't open the file, report an error.\n",
        "  // This could be if you don't have permission to \n",
        "  // use the current working directory, or if the \n",
        "  // .csv file is held open by another program.\n",
        "  if( fp == null ) {\n",
        "      printf(\"Error opening %s\\n\", filename );\n",
        "      \n",
        "      // You should handle this error appropriately.\n",
        "      // ...\n",
        "  }\n",
        "\n",
        "  // We now close the file, after creating it on\n",
        "  // disk.  When we log our map data to the file,\n",
        "  // we will open and close it every time.  We do\n",
        "  // this because we do not know when the controller\n",
        "  // program will end.  Therefore, we \"save\" the \n",
        "  // contents of the file after every write operation\n",
        "  // by closing it.\n",
        "  if( fp != NULL ) fclose( fp );\n",
        "\n",
        "}\n",
        "\n",
        "void loop() {\n",
        "\n",
        "  // You controller code.\n",
        "\n",
        "\n",
        "  // We write the map out to our csv file.\n",
        "  // Note, if you write out a map on every update\n",
        "  // your file size will be very large!\n",
        "  \n",
        "  // if( time_interval has elapsed ) {\n",
        "    writeMap();\n",
        "  // }\n",
        "\n",
        "}\n",
        "\n",
        "void writeMap() {\n",
        "  int x;\n",
        "  int y;\n",
        "\n",
        "  // Open the file to append (add new data)\n",
        "  fp = fopen( filename, \"a\" );\n",
        "\n",
        "  // If we couldn't open the file, report an error.\n",
        "  // This could be if you don't have permission to \n",
        "  // use the current working directory.\n",
        "  if( fp == NULL ) {\n",
        "      printf(\"Error opening %s\\n\", filename );\n",
        "      return;\n",
        "      \n",
        "  }\n",
        "\n",
        "  // Loop through map and print to file.\n",
        "  for( y = 0; y < MAP_YLIM; y++ ) {\n",
        "    for( x = 0; x < MAP_XLIM; x++ ) {\n",
        "\n",
        "      // Similar to printf, except we direct\n",
        "      // output to the the file pointer fp\n",
        "      fprintf( fp, \"%.2f, \", map[x][y] );\n",
        "    }\n",
        "\n",
        "    // Newline so we print a 2d array\n",
        "    fprintf( fp, \"\\n\" );\n",
        "  }\n",
        "\n",
        "  // Newline so that there is a gap between\n",
        "  // map records in the csv file\n",
        "  fprintf( fp, \"\\n\" );\n",
        "\n",
        "  // Close the file, saving the changes.\n",
        "  if( fp != NULL ) fclose( fp );\n",
        "\n",
        "\n",
        "}\n",
        "\n",
        "```"
      ]
    },
    {
      "cell_type": "markdown",
      "metadata": {
        "id": "Iq3SikXEKIZR"
      },
      "source": [
        "## Exercise 3: Writing out Results\n",
        "\n",
        "1.  Integrate the above example code into your Webots controller.  \n",
        "  - **Validate:** Check that you can `restart` your controller program, and see a new `my_map.csv` file created on disk.  You might need to look at the number of bytes stored on disk to see the change.\n",
        "  - **Validate:** Check that when you run your controller program, and then stop it, that you can see multiple versions of your map within `my_map.csv`.\n",
        "\n",
        "2. Decide how to utilise this functionality:\n",
        "  - Decide how frequently you should call `writeMap()`.  This will depend on the behaviour of your robot and the duration of your experiments.\n",
        "  - If you use a resolution higher than `90x90`, your file size will increase proportionally.  \n",
        "  - You may decide to instead only write out a map at the end of your controller program.  The simulator has no predefined end.  Thefeore, you may need to write some code that uses time or an objective to decide when your robot has \"finished\" it's task, and then write the map to disk.\n",
        "  - You can use a similar method to write other information to disk for later analysis.  For example, you might want to create another `.csv` file to store information on odometry over time.\n",
        "  - You can use the code in `setup()` to add initial headers to your `.csv` file where it is appropriate. Within `.csv`, column headers are usually encapsulated in double-quotation (`\"`).  In C, you must use an escape character to create this formating:\n",
        "\n",
        "```c\n",
        "// Example of writing string headers to the .csv file pointer.\n",
        "// backstroke allows \" to be printed: e.g.  \\\"\n",
        "fprintf( fp, \" \\\"X result\\\", \\\"Y result\\\", \\\"Theta result\\\" \");\n",
        "\n",
        "```\n",
        "\n",
        "3. Allow your robot to navigate the environment and update it's map.  Validate that you are logging into the map appropriately.\n",
        "  - **Help:** Remember that, for a resolution of 90x90 cells (therefore, 1 cell is 10mm), your robot must move a 10mm before data is entered into a new cell.  If your robot reports data into a cell on every call of the simulation, 1 cell will accumulate a lot of readings before the robot has moved to a new cell. "
      ]
    },
    {
      "cell_type": "markdown",
      "metadata": {
        "id": "FxNnhAXaVb_N"
      },
      "source": [
        "<hr><br><br><br><br>\n",
        "\n"
      ]
    },
    {
      "cell_type": "markdown",
      "metadata": {
        "id": "H8xxUyrBVelf"
      },
      "source": [
        "# True-Positive, False-Positive, True-Negative, False-Negative\n",
        "\n",
        "<p align=\"center\">\n",
        "<img width=\"75%\" src=\"https://github.com/paulodowd/EMATM0053_21_22/blob/main/images/Webots_MappingReadings.png?raw=true\">\n",
        "</p>\n",
        "\n",
        "We know from a previous labsheet that when the e-puck does not have an obstruction within it's sensor view, the sensor will still report a range measurement.  This means that an immediate challenge to use the IR proximity sensors is to decide when to ignore sensor readings in the context of mapping.  \n",
        "\n",
        "In the illustration above, a pink zone has been indicated where the robot cannot disciriminate between a reading without an obstruction, and when an obstruction is present.  If this region was logged into the map, the map would have a large number of `false-positive` readings - entries where an obstruction was recognised that did not exist in reality.\n",
        "\n",
        "The green area of the sensors will be readings that we can have a higher degree of confidence of being true.  Unfortunately, the sensors have noise, so there is still a chance that we might add an obstruction to the map in a location that it does not exist (a `false-positive`).  However, in the green area, we are much more likely to log a `true-postive`, an obstruction where one exists in reality.\n",
        "\n",
        "Because of sensor noise, it is possible that the robot may not detect an obstruction when one does exist in reality.  This is known as a `false-negative` - the robot has indicated free space (no obstruction detected) incorrectly.\n",
        "\n",
        "When the robot does not detect an obstruction, and this is the correct state of reality, this is referred to as a `true-negative`.  \n",
        "\n",
        "\n",
        "\n",
        "\n",
        "\n"
      ]
    },
    {
      "cell_type": "markdown",
      "metadata": {
        "id": "rv-puOBmXVQk"
      },
      "source": [
        "# Exercise 4: Discrimination\n",
        "\n",
        "1.  Use techniques you have developed before to decide by threshold (here, of distance measured) whether a reading from a sensor should be logged into your map.  \n",
        "\n",
        "2. Investigate a smaller arena size, allowing you to produce a higher resolution map.  \n",
        "  - **Help:** you could use the drawing on the arena floor and line following to keep your epuck robot within a smaller area of the arena.\n",
        "\n",
        "3. Investigate comparing your produced map against a known configuration of the environment (the `gound-truth`).  For example, create a smaller arena with an obstacle in a known location.  Compare your produced map against the ground-truth for the quantity of:\n",
        " - True-Positives\n",
        " - False-Positives\n",
        " - True-Negatives\n",
        " - False-Negatives\n",
        "\n",
        "- If you are working in Excel, this can be as simple as subtracting cell data of one sheet from another.\n",
        "- You may wish to investigate <a href=\"https://en.wikipedia.org/wiki/Sensitivity_and_specificity\">other ways</a> of processing data into similar metrics.\n"
      ]
    }
  ]
}