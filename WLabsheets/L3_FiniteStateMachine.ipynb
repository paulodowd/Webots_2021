{
  "nbformat": 4,
  "nbformat_minor": 0,
  "metadata": {
    "colab": {
      "name": "L3_FiniteStateMachine",
      "provenance": [],
      "collapsed_sections": [],
      "toc_visible": true,
      "authorship_tag": "ABX9TyNZOro7e5guvc9pQ3vMhfkS",
      "include_colab_link": true
    },
    "kernelspec": {
      "name": "python3",
      "display_name": "Python 3"
    },
    "language_info": {
      "name": "python"
    }
  },
  "cells": [
    {
      "cell_type": "markdown",
      "metadata": {
        "id": "view-in-github",
        "colab_type": "text"
      },
      "source": [
        "<a href=\"https://colab.research.google.com/github/paulodowd/EMATM0053_21_22/blob/main/L3_FiniteStateMachine.ipynb\" target=\"_parent\"><img src=\"https://colab.research.google.com/assets/colab-badge.svg\" alt=\"Open In Colab\"/></a>"
      ]
    },
    {
      "cell_type": "markdown",
      "metadata": {
        "id": "GhRt-pAnkJYC"
      },
      "source": [
        "# Labsheet 3: Finite State Machine\n",
        "\n",
        "This labsheet has exercises for you to implement a <a href=\"https://en.wikipedia.org/wiki/Finite-state_machine\">Finite State Machine</a>.  Previously, we have explored moving the robot, line following, and joining the line.  We are beginning to collect code to produce different behaviours, and your program is probably starting to get large.  \n",
        "\n",
        "This labsheet will help you to organise your code.  Writing clear, well structured code will:\n",
        "- reduce the probability of errors, bugs and mistakes in your code.  \n",
        "- allow you and others to debug your code more efficiently.  \n",
        "\n",
        "This labsheet is relatively short and serves to equip you for future work."
      ]
    },
    {
      "cell_type": "markdown",
      "metadata": {
        "id": "OwdmSaTZl1kq"
      },
      "source": [
        "<hr><br><br><br><br>"
      ]
    },
    {
      "cell_type": "markdown",
      "metadata": {
        "id": "uLBK0EGfl3vJ"
      },
      "source": [
        "## Finite State Machines\n",
        "\n",
        "Wikipedia defines a Finite State Machine (FSM) as:\n",
        "\n",
        "> \"A finite-state machine (FSM) ... is a mathematical model of computation. It is an abstract machine that can be in exactly one of a finite number of states at any given time. The FSM can change from one state to another in response to some external inputs; the change from one state to another is called a transition. An FSM is defined by a list of its states, its initial state, and the conditions for each transition.\"\n",
        "\n",
        "\n",
        "The following example, also from Wikipedia, will also help us to understand how to implement a FSM for our simulated robot. An example of a simple mechanism that can be modeled by a state machine is a turnstile.\n",
        "\n",
        "A turnstile, used to control access to subways and amusement park rides, is a gate with three rotating arms at waist height, one across the entryway. Initially the arms are locked, blocking the entry, preventing patrons from passing through. Depositing a coin or token in a slot on the turnstile unlocks the arms, allowing a single customer to push through. After the customer passes through, the arms are locked again until another coin is inserted.\n",
        "\n",
        "Considered as a state machine, the turnstile has two possible states: Locked and Unlocked. There are two possible inputs that affect its state: putting a coin in the slot (coin) and pushing the arm (push). In the locked state, pushing on the arm has no effect; no matter how many times the input push is given, it stays in the locked state. Putting a coin in – that is, giving the machine a coin input – shifts the state from Locked to Unlocked. In the unlocked state, putting additional coins in has no effect; that is, giving additional coin inputs does not change the state. However, a customer pushing through the arms, giving a push input, shifts the state back to Locked.\n",
        "\n",
        "The turnstile state machine can be represented by a state transition table, showing for each possible state, the transitions between them (based upon the inputs given to the machine) and the outputs resulting from each input:\n",
        "\n",
        "<p align=\"center\">\n",
        "<img src=\"https://upload.wikimedia.org/wikipedia/commons/thumb/9/9e/Turnstile_state_machine_colored.svg/1920px-Turnstile_state_machine_colored.svg.png\">\n",
        "</p>\n",
        "\n",
        "In the above diagram we can see that:\n",
        "\n",
        "- The system starts at the Black dot, and therefore immediately moves to an **`initial state`** of **locked**.\n",
        "- **`Sensing push`** while **locked** keeps the system in state **locked**.\n",
        "- **`Sensing a coin`** while in **locked** **`transitions`** to state **unlocked**.\n",
        "- **`Sensing a coin`** while in **unlocked** keeps the system in state **unlocked**.\n",
        "- **`Sensing push`** while in unlocked **`transitions`** the state to **locked**.\n",
        "- The FSM will never go to an undetermined state."
      ]
    },
    {
      "cell_type": "markdown",
      "metadata": {
        "id": "Ht_sxux-tZtt"
      },
      "source": [
        "<hr><br><br><br><br>"
      ]
    },
    {
      "cell_type": "markdown",
      "metadata": {
        "id": "azEYPwnemlLm"
      },
      "source": [
        "## Developing an FSM \n",
        "\n",
        "Building a FSM can become very complex. It is best to get something simple working first. To start with, we will design a FSM to get our robot to drive forward from the starting box on the map, and then stop when it finds the line.\n",
        "\n",
        "When designing an FSM, we need to step away from our human understanding of how the robot should behave. We need to decompose the desired behaviour into smaller parts which rely only on the information available to the robot. It may even help to imagine being the Romi robot with the sensors it has. We need to make sure we catch any assumptions about the robot, any ambiguity, and any potentially ambiguous circumstances. For example, what should your robot do as soon as you turn it on? The robot is fundamentally stupid, and we need to embody our intelligence with code.\n",
        "\n",
        "We will work on moving between 3 states:\n",
        "\n",
        "- An initial state: the robot will wait 5 seconds so that you have an opportunity to adjust the robot location.  \n",
        "\n",
        "- A find line (driving forwards) state, to drive out of the starting box.\n",
        "\n",
        "- A found line state, to get the robot to stop when it finds the line.\n",
        "\n",
        "And then we can describe our transitions loosely as:\n",
        "\n",
        "- We want out FSM to stay in initial state whilst the perceived time is less than 5 seconds.\n",
        "- We want our FSM to go from initial state to a find line state.\n",
        "- Once in driving forwards state, we want it to keep returning to this state until a line is detected.\n",
        "- If a line is detected, the FSM will move into found line state. \n",
        "\n"
      ]
    },
    {
      "cell_type": "markdown",
      "metadata": {
        "id": "xRfsFfDYtcUs"
      },
      "source": [
        "<hr><br><br><br><br>"
      ]
    },
    {
      "cell_type": "markdown",
      "metadata": {
        "id": "X_66RO3foHLJ"
      },
      "source": [
        "## Exercise 1: Planning a FSM\n",
        "\n",
        "1. Draw a FSM for the above states.\n",
        "  - Annotate your FSM to include the information required for each transition.\n",
        "  - Make notes on your FSM to about pieces of code or techniques that you have developed which will be relevant.\n",
        "  - Consider how the FSM could be expanded to include other desired functionality.  What information is required to inform new states and new transitions?\n",
        "\n",
        "2. Review your existing code:\n",
        "  - Where necessary, `refactor` your code into functions.  These will be easier to integrate with the FSM.\n",
        "  - Ensure you test all modifications to your code.  "
      ]
    },
    {
      "cell_type": "markdown",
      "metadata": {
        "id": "XGbIt4agoUUH"
      },
      "source": [
        "## Exercise 2: Implementing a FSM\n",
        "\n",
        "The following code extract provides a suggested method to implement a Finite State Machine.\n",
        "\n",
        "1. **Decompose the problem**: Implement one new state at a time, and ensure it operates as expected. \n",
        "  - Test for a transition into and out of the state.  \n",
        "  - Build each new state progressively, one after the other.  \n",
        "  - Test the robot performs in a repeatable manner.  \n",
        "\n",
        "\n",
        "```c\n",
        "// You will need to include the relevant\n",
        "// library files and functions from your\n",
        "// previous work.\n",
        "\n",
        "// Declare your different possible \n",
        "// states here and enumerate them.\n",
        "// Remember, a #define works like a \n",
        "// find and replace in code.\n",
        "#define STATE_INITIAL        0\n",
        "#define STATE_FIND_LINE      1\n",
        "#define STATE_FOUND_LINE     2\n",
        "\n",
        "/*********************************************\n",
        " Global variables.  \n",
        "   Declare any global variables here to keep\n",
        "   your code tidy.\n",
        "**********************************************/\n",
        "int state; // Use to track current FSM state.\n",
        "\n",
        "\n",
        "// ... main() ... etc\n",
        "\n",
        "/*********************************************\n",
        " setup()\n",
        "   Use this function to setup any variables\n",
        "   or robot devices prior to the start of your\n",
        "   simulation.\n",
        "**********************************************/\n",
        "void setup() {\n",
        "  // ...\n",
        "\n",
        "  // Start system in a known FSM state\n",
        "  state = STATE_INITIAL;\n",
        "\n",
        "}\n",
        "\n",
        "/*********************************************\n",
        " loop()\n",
        "   Use this function to build the structure of \n",
        "   your robot controller.  Remember that we \n",
        "   expect this function to be called again and\n",
        "   again (iteratively).  \n",
        "**********************************************/\n",
        "void loop() {\n",
        "\n",
        "  // Call the appropriate function given\n",
        "  // the system state.\n",
        "  if( state == STATE_INITIAL ) {\n",
        "      exampleInitialFunction();\n",
        "\n",
        "  } else if ( state == STATE_FIND_LINE ) {\n",
        "      exampleFSMFunction();\n",
        "\n",
        "  } else if ( state == STATE_FOUND_LINE ) {\n",
        "      exampleFSMFunction();\n",
        "\n",
        "  } // etc.\n",
        "\n",
        "}\n",
        "\n",
        "// This is an example template function \n",
        "//   structure to implement within a FSM.\n",
        "void exampleFSMFunction() {\n",
        "\n",
        "  // Update system status\n",
        "  // - e.g. check sensors, etc\n",
        "  // ...\n",
        "  status = ????;\n",
        "\n",
        "  if( status == OK ) {\n",
        "      // operate desired FSM behaviour.\n",
        "      // A function call here would be good.\n",
        "      // Note, we expect this to operate once,\n",
        "      // then return and to be called again \n",
        "      // by the FSM if the system continues in\n",
        "      // a good status.\n",
        "\n",
        "\n",
        "  // If status has changed, transition FSM.\n",
        "  } else if( status != OK ) {\n",
        "\n",
        "      // Tidy up any system/FSM variables.\n",
        "      // ...\n",
        "\n",
        "      // Set new appropriate state flag\n",
        "      // to move into on next interation.\n",
        "      state = STATE_????;\n",
        "\n",
        "  }\n",
        "\n",
        "}\n",
        "\n",
        "// A very brief example of an inital state\n",
        "// function.\n",
        "void exampleInitialFunction() {\n",
        "\n",
        "  // Have 5 seconds elapsed?\n",
        "  if( time_elapsed == false ) {\n",
        "    status = OK;\n",
        "  else {\n",
        "    status = EXIT;\n",
        "  }\n",
        "  \n",
        "\n",
        "  if( status == OK ) {\n",
        "      \n",
        "      // Set motor velocity to 0\n",
        "      // ...\n",
        "\n",
        "      // Do \"nothing\" for this iteration.\n",
        "\n",
        "  } else if( status != OK ) {\n",
        "\n",
        "      // Tidy up any system/FSM variables.\n",
        "      // ...\n",
        "\n",
        "      // Set new appropriate state flag\n",
        "      // to move into on next interation.\n",
        "      // In this case, move the robot forwards\n",
        "      state = STATE_FIND_LINE;\n",
        "\n",
        "  }\n",
        "\n",
        "}\n",
        "\n",
        "\n",
        "```"
      ]
    }
  ]
}